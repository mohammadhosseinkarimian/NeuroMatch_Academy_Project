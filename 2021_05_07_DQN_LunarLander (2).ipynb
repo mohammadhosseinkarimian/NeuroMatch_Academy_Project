{
  "cells": [
    {
      "cell_type": "markdown",
      "id": "c3e89aca-6c52-4b20-b1a3-9279ef0fd99b",
      "metadata": {
        "id": "c3e89aca-6c52-4b20-b1a3-9279ef0fd99b"
      },
      "source": [
        "# Deep Q-Network (DQN) on LunarLander-v2\n",
        "\n",
        "> In this post, We will take a hands-on-lab of Simple Deep Q-Network (DQN) on openAI LunarLander-v2 environment. This is the coding exercise from udacity Deep Reinforcement Learning Nanodegree.\n",
        "\n",
        "- toc: true \n",
        "- badges: true\n",
        "- comments: true\n",
        "- author: Chanseok Kang\n",
        "- categories: [Python, Reinforcement_Learning, PyTorch, Udacity]\n",
        "- image: images/LunarLander-v2.gif"
      ]
    },
    {
      "cell_type": "markdown",
      "id": "fd834f1b-51c4-4910-a4d6-3b212e1a2a5a",
      "metadata": {
        "id": "fd834f1b-51c4-4910-a4d6-3b212e1a2a5a"
      },
      "source": [
        "## Deep Q-Network (DQN)\n",
        "---\n",
        "In this notebook, you will implement a DQN agent with OpenAI Gym's LunarLander-v2 environment.\n",
        "\n",
        "### Import the Necessary Packages"
      ]
    },
    {
      "cell_type": "code",
      "execution_count": 116,
      "id": "AYDZ7aX1N4p6",
      "metadata": {
        "colab": {
          "base_uri": "https://localhost:8080/"
        },
        "id": "AYDZ7aX1N4p6",
        "outputId": "0dfde9df-c478-46cf-c0cd-c8465e0e6ab7"
      },
      "outputs": [],
      "source": [
        "# !pip install gym[box2d] "
      ]
    },
    {
      "cell_type": "code",
      "execution_count": 117,
      "id": "22518486-3c2f-47fe-92b3-1502875eacfe",
      "metadata": {
        "id": "22518486-3c2f-47fe-92b3-1502875eacfe"
      },
      "outputs": [],
      "source": [
        "import gym\n",
        "import random\n",
        "import torch\n",
        "import torch.nn as nn\n",
        "import torch.nn.functional as F\n",
        "import torch.optim as optim\n",
        "import matplotlib.pyplot as plt\n",
        "import base64, io\n",
        "\n",
        "import numpy as np\n",
        "from collections import deque, namedtuple\n",
        "\n",
        "# For visualization\n",
        "from gym.wrappers.monitoring import video_recorder\n",
        "from IPython.display import HTML\n",
        "from IPython import display \n",
        "import glob"
      ]
    },
    {
      "cell_type": "markdown",
      "id": "f75f934c-6921-43aa-8389-6df4b993eca4",
      "metadata": {
        "id": "f75f934c-6921-43aa-8389-6df4b993eca4"
      },
      "source": [
        "### Instantiate the Environment and Agent\n",
        "\n",
        "Initialize the environment."
      ]
    },
    {
      "cell_type": "code",
      "execution_count": 118,
      "id": "594828b6-da33-481d-ab42-041e8c17ffea",
      "metadata": {
        "colab": {
          "base_uri": "https://localhost:8080/",
          "height": 727
        },
        "id": "594828b6-da33-481d-ab42-041e8c17ffea",
        "outputId": "f9d61d7e-5eb6-43e0-92ae-95726f6a0a43"
      },
      "outputs": [
        {
          "name": "stdout",
          "output_type": "stream",
          "text": [
            "State shape:  (8,)\n",
            "Number of actions:  4\n"
          ]
        },
        {
          "name": "stderr",
          "output_type": "stream",
          "text": [
            "e:\\RL\\gym\\venv\\lib\\site-packages\\gym\\core.py:268: DeprecationWarning: \u001b[33mWARN: Function `env.seed(seed)` is marked as deprecated and will be removed in the future. Please use `env.reset(seed=seed)` instead.\u001b[0m\n",
            "  deprecation(\n"
          ]
        }
      ],
      "source": [
        "import lunar_lander\n",
        "\n",
        "# env = gym.make('LunarLander-v2')\n",
        "env = lunar_lander.LunarLander()\n",
        "env.seed(0)\n",
        "print('State shape: ', env.observation_space.shape)\n",
        "print('Number of actions: ', env.action_space.n)"
      ]
    },
    {
      "cell_type": "markdown",
      "id": "03735bdc-c07e-4c87-b208-cce894bb8e43",
      "metadata": {
        "id": "03735bdc-c07e-4c87-b208-cce894bb8e43"
      },
      "source": [
        "### Define Neural Network Architecture.\n",
        "\n",
        "Since `LunarLander-v2` environment is sort of simple envs, we don't need complicated architecture. We just need non-linear function approximator that maps from state to action."
      ]
    },
    {
      "cell_type": "code",
      "execution_count": 119,
      "id": "ae834607-433e-4ed5-8b23-8de7b53230a8",
      "metadata": {
        "id": "ae834607-433e-4ed5-8b23-8de7b53230a8"
      },
      "outputs": [],
      "source": [
        "class QNetwork(nn.Module):\n",
        "    \"\"\"Actor (Policy) Model.\"\"\"\n",
        "\n",
        "    def __init__(self, state_size, action_size, seed):\n",
        "        \"\"\"Initialize parameters and build model.\n",
        "        Params\n",
        "        ======\n",
        "            state_size (int): Dimension of each state\n",
        "            action_size (int): Dimension of each action\n",
        "            seed (int): Random seed\n",
        "        \"\"\"\n",
        "        super(QNetwork, self).__init__()\n",
        "        self.seed = torch.manual_seed(seed)\n",
        "        self.fc1 = nn.Linear(state_size, 64)\n",
        "        self.fc2 = nn.Linear(64, 64)\n",
        "        self.fc3 = nn.Linear(64, action_size)\n",
        "        \n",
        "    def forward(self, state):\n",
        "        \"\"\"Build a network that maps state -> action values.\"\"\"\n",
        "        x = self.fc1(state)\n",
        "        x = F.relu(x)\n",
        "        x = self.fc2(x)\n",
        "        x = F.relu(x)\n",
        "        return self.fc3(x)"
      ]
    },
    {
      "cell_type": "markdown",
      "id": "b0873298-cab0-4dcb-9c84-4782dc914dd7",
      "metadata": {
        "id": "b0873298-cab0-4dcb-9c84-4782dc914dd7"
      },
      "source": [
        "### Define some hyperparameter"
      ]
    },
    {
      "cell_type": "code",
      "execution_count": 120,
      "id": "7010c525-29d8-445c-8769-6cfb7d00948b",
      "metadata": {
        "id": "7010c525-29d8-445c-8769-6cfb7d00948b"
      },
      "outputs": [],
      "source": [
        "BUFFER_SIZE = int(1e5)  # replay buffer size\n",
        "BATCH_SIZE = 64         # minibatch size\n",
        "GAMMA = 0.99            # discount factor\n",
        "TAU = 1e-3              # for soft update of target parameters\n",
        "LR = 5e-4               # learning rate \n",
        "UPDATE_EVERY = 4        # how often to update the network"
      ]
    },
    {
      "cell_type": "code",
      "execution_count": 121,
      "id": "334bb7d8-7d62-4cfb-96f7-f8809ba8e089",
      "metadata": {
        "id": "334bb7d8-7d62-4cfb-96f7-f8809ba8e089"
      },
      "outputs": [],
      "source": [
        "device = torch.device(\"cuda:0\" if torch.cuda.is_available() else \"cpu\")"
      ]
    },
    {
      "cell_type": "markdown",
      "id": "1d861efe-200c-4690-9698-722abbf0b77c",
      "metadata": {
        "id": "1d861efe-200c-4690-9698-722abbf0b77c"
      },
      "source": [
        "### Define Agent "
      ]
    },
    {
      "cell_type": "code",
      "execution_count": 122,
      "id": "0530f456-2bfd-4061-ad62-f14846a9a284",
      "metadata": {
        "id": "0530f456-2bfd-4061-ad62-f14846a9a284"
      },
      "outputs": [],
      "source": [
        "class Agent():\n",
        "    \"\"\"Interacts with and learns from the environment.\"\"\"\n",
        "\n",
        "    def __init__(self, state_size, action_size, seed):\n",
        "        \"\"\"Initialize an Agent object.\n",
        "        \n",
        "        Params\n",
        "        ======\n",
        "            state_size (int): dimension of each state\n",
        "            action_size (int): dimension of each action\n",
        "            seed (int): random seed\n",
        "        \"\"\"\n",
        "        self.state_size = state_size\n",
        "        self.action_size = action_size\n",
        "        self.seed = random.seed(seed)\n",
        "\n",
        "        # Q-Network\n",
        "        self.qnetwork_local = QNetwork(state_size, action_size, seed).to(device)\n",
        "        self.qnetwork_target = QNetwork(state_size, action_size, seed).to(device)\n",
        "        self.optimizer = optim.Adam(self.qnetwork_local.parameters(), lr=LR)\n",
        "\n",
        "        # Replay memory\n",
        "        self.memory = ReplayBuffer(action_size, BUFFER_SIZE, BATCH_SIZE, seed)\n",
        "        # Initialize time step (for updating every UPDATE_EVERY steps)\n",
        "        self.t_step = 0\n",
        "    \n",
        "    def step(self, state, action, reward, next_state, done):\n",
        "        # Save experience in replay memory\n",
        "        self.memory.add(state, action, reward, next_state, done)\n",
        "        \n",
        "        # Learn every UPDATE_EVERY time steps.\n",
        "        self.t_step = (self.t_step + 1) % UPDATE_EVERY\n",
        "        if self.t_step == 0:\n",
        "            # If enough samples are available in memory, get random subset and learn\n",
        "            if len(self.memory) > BATCH_SIZE:\n",
        "                experiences = self.memory.sample()\n",
        "                self.learn(experiences, GAMMA)\n",
        "\n",
        "    def act(self, state, eps=0.):\n",
        "        \"\"\"Returns actions for given state as per current policy.\n",
        "        \n",
        "        Params\n",
        "        ======\n",
        "            state (array_like): current state\n",
        "            eps (float): epsilon, for epsilon-greedy action selection\n",
        "        \"\"\"\n",
        "        state = torch.from_numpy(state).float().unsqueeze(0).to(device)\n",
        "        self.qnetwork_local.eval()\n",
        "        with torch.no_grad():\n",
        "            action_values = self.qnetwork_local(state)\n",
        "        self.qnetwork_local.train()\n",
        "\n",
        "        # Epsilon-greedy action selection\n",
        "        if random.random() > eps:\n",
        "            return np.argmax(action_values.cpu().data.numpy())\n",
        "        else:\n",
        "            return random.choice(np.arange(self.action_size))\n",
        "\n",
        "    def learn(self, experiences, gamma):\n",
        "        \"\"\"Update value parameters using given batch of experience tuples.\n",
        "\n",
        "        Params\n",
        "        ======\n",
        "            experiences (Tuple[torch.Variable]): tuple of (s, a, r, s', done) tuples \n",
        "            gamma (float): discount factor\n",
        "        \"\"\"\n",
        "        # Obtain random minibatch of tuples from D\n",
        "        states, actions, rewards, next_states, dones = experiences\n",
        "\n",
        "        ## Compute and minimize the loss\n",
        "        ### Extract next maximum estimated value from target network\n",
        "        q_targets_next = self.qnetwork_target(next_states).detach().max(1)[0].unsqueeze(1)\n",
        "        ### Calculate target value from bellman equation\n",
        "        q_targets = rewards + gamma * q_targets_next * (1 - dones)\n",
        "        ### Calculate expected value from local network\n",
        "        q_expected = self.qnetwork_local(states).gather(1, actions)\n",
        "        \n",
        "        ### Loss calculation (we used Mean squared error)\n",
        "        loss = F.mse_loss(q_expected, q_targets)\n",
        "        self.optimizer.zero_grad()\n",
        "        loss.backward()\n",
        "        self.optimizer.step()\n",
        "\n",
        "        # ------------------- update target network ------------------- #\n",
        "        self.soft_update(self.qnetwork_local, self.qnetwork_target, TAU)                     \n",
        "\n",
        "    def soft_update(self, local_model, target_model, tau):\n",
        "        \"\"\"Soft update model parameters.\n",
        "        θ_target = τ*θ_local + (1 - τ)*θ_target\n",
        "\n",
        "        Params\n",
        "        ======\n",
        "            local_model (PyTorch model): weights will be copied from\n",
        "            target_model (PyTorch model): weights will be copied to\n",
        "            tau (float): interpolation parameter \n",
        "        \"\"\"\n",
        "        for target_param, local_param in zip(target_model.parameters(), local_model.parameters()):\n",
        "            target_param.data.copy_(tau*local_param.data + (1.0-tau)*target_param.data)"
      ]
    },
    {
      "cell_type": "markdown",
      "id": "4eb5db66-ecb3-4bf4-aee1-3e18003c17b0",
      "metadata": {
        "id": "4eb5db66-ecb3-4bf4-aee1-3e18003c17b0"
      },
      "source": [
        "### Define Replay Buffer"
      ]
    },
    {
      "cell_type": "code",
      "execution_count": 123,
      "id": "f74bb08e-0b95-42db-9fc8-d609514d55af",
      "metadata": {
        "id": "f74bb08e-0b95-42db-9fc8-d609514d55af"
      },
      "outputs": [],
      "source": [
        "class ReplayBuffer:\n",
        "    \"\"\"Fixed-size buffer to store experience tuples.\"\"\"\n",
        "\n",
        "    def __init__(self, action_size, buffer_size, batch_size, seed):\n",
        "        \"\"\"Initialize a ReplayBuffer object.\n",
        "\n",
        "        Params\n",
        "        ======\n",
        "            action_size (int): dimension of each action\n",
        "            buffer_size (int): maximum size of buffer\n",
        "            batch_size (int): size of each training batch\n",
        "            seed (int): random seed\n",
        "        \"\"\"\n",
        "        self.action_size = action_size\n",
        "        self.memory = deque(maxlen=buffer_size)  \n",
        "        self.batch_size = batch_size\n",
        "        self.experience = namedtuple(\"Experience\", field_names=[\"state\", \"action\", \"reward\", \"next_state\", \"done\"])\n",
        "        self.seed = random.seed(seed)\n",
        "    \n",
        "    def add(self, state, action, reward, next_state, done):\n",
        "        \"\"\"Add a new experience to memory.\"\"\"\n",
        "        e = self.experience(state, action, reward, next_state, done)\n",
        "        self.memory.append(e)\n",
        "    \n",
        "    def sample(self):\n",
        "        \"\"\"Randomly sample a batch of experiences from memory.\"\"\"\n",
        "        experiences = random.sample(self.memory, k=self.batch_size)\n",
        "\n",
        "        states = torch.from_numpy(np.vstack([e.state for e in experiences if e is not None])).float().to(device)\n",
        "        actions = torch.from_numpy(np.vstack([e.action for e in experiences if e is not None])).long().to(device)\n",
        "        rewards = torch.from_numpy(np.vstack([e.reward for e in experiences if e is not None])).float().to(device)\n",
        "        next_states = torch.from_numpy(np.vstack([e.next_state for e in experiences if e is not None])).float().to(device)\n",
        "        dones = torch.from_numpy(np.vstack([e.done for e in experiences if e is not None]).astype(np.uint8)).float().to(device)\n",
        "  \n",
        "        return (states, actions, rewards, next_states, dones)\n",
        "\n",
        "    def __len__(self):\n",
        "        \"\"\"Return the current size of internal memory.\"\"\"\n",
        "        return len(self.memory)"
      ]
    },
    {
      "cell_type": "markdown",
      "id": "6bd61b8d-b63e-444f-9cb7-6295df46995d",
      "metadata": {
        "id": "6bd61b8d-b63e-444f-9cb7-6295df46995d"
      },
      "source": [
        "### Training Process"
      ]
    },
    {
      "cell_type": "code",
      "execution_count": 124,
      "id": "c907ab57-ed48-4824-b27c-8c7d707d6919",
      "metadata": {
        "id": "c907ab57-ed48-4824-b27c-8c7d707d6919"
      },
      "outputs": [
        {
          "name": "stdout",
          "output_type": "stream",
          "text": [
            "Episode 100\tAverage Score: -162.03\n",
            "Episode 200\tAverage Score: -99.571\n",
            "Episode 300\tAverage Score: -122.28\n",
            "Episode 400\tAverage Score: -65.850\n",
            "Episode 500\tAverage Score: -51.16\n",
            "Episode 600\tAverage Score: 46.168\n",
            "Episode 700\tAverage Score: 70.18\n",
            "Episode 800\tAverage Score: 81.71\n",
            "Episode 900\tAverage Score: 129.63\n",
            "Episode 1000\tAverage Score: 89.57\n",
            "Episode 1100\tAverage Score: 120.66\n",
            "Episode 1200\tAverage Score: 111.37\n",
            "Episode 1300\tAverage Score: 136.65\n",
            "Episode 1376\tAverage Score: 181.31\n",
            "Environment solved in 1276 episodes!\tAverage Score: 181.31\n"
          ]
        }
      ],
      "source": [
        "def dqn(n_episodes=4000, max_t=800, eps_start=1.0, eps_end=0.01, eps_decay=0.995):\n",
        "    \"\"\"Deep Q-Learning.\n",
        "    \n",
        "    Params\n",
        "    ======\n",
        "        n_episodes (int): maximum number of training episodes\n",
        "        max_t (int): maximum number of timesteps per episode\n",
        "        eps_start (float): starting value of epsilon, for epsilon-greedy action selection\n",
        "        eps_end (float): minimum value of epsilon\n",
        "        eps_decay (float): multiplicative factor (per episode) for decreasing epsilon\n",
        "    \"\"\"\n",
        "    \n",
        "    scores = []                        # list containing scores from each episode\n",
        "    scores_window = deque(maxlen=100)  # last 100 scores\n",
        "    eps = eps_start                    # initialize epsilon\n",
        "    for i_episode in range(1, n_episodes+1):\n",
        "        if i_episode > 3700:\n",
        "            eps_end=0.00001\n",
        "            eps_decay = 0.1\n",
        "        state = env.reset()\n",
        "        score = 0\n",
        "        for t in range(max_t):\n",
        "            action = agent.act(state, eps)\n",
        "            next_state, reward, done, _, _ = env.step(action)\n",
        "            agent.step(state, action, reward, next_state, done)\n",
        "            state = next_state\n",
        "            score += reward\n",
        "            if done:\n",
        "                break \n",
        "        scores_window.append(score)       # save most recent score\n",
        "        scores.append(score)              # save most recent score\n",
        "        eps = max(eps_end, eps_decay*eps) # decrease epsilon\n",
        "        print('\\rEpisode {}\\tAverage Score: {:.2f}'.format(i_episode, np.mean(scores_window)), end=\"\")\n",
        "        if i_episode % 100 == 0:\n",
        "            print('\\rEpisode {}\\tAverage Score: {:.2f}'.format(i_episode, np.mean(scores_window)))\n",
        "        if np.mean(scores_window)>=180.0:\n",
        "            print('\\nEnvironment solved in {:d} episodes!\\tAverage Score: {:.2f}'.format(i_episode-100, np.mean(scores_window)))\n",
        "            torch.save(agent.qnetwork_local.state_dict(), 'checkpoint.pth')\n",
        "            break\n",
        "    return scores\n",
        "\n",
        "agent = Agent(state_size=8, action_size=4, seed=0)\n",
        "scores = dqn()"
      ]
    },
    {
      "cell_type": "markdown",
      "id": "1ba6726a-977a-4345-8897-021302bfc262",
      "metadata": {
        "id": "1ba6726a-977a-4345-8897-021302bfc262"
      },
      "source": [
        "### Plot the learning progress"
      ]
    },
    {
      "cell_type": "code",
      "execution_count": 125,
      "id": "d2d491c9-a5dc-4c32-a95d-796f85c60c83",
      "metadata": {
        "id": "d2d491c9-a5dc-4c32-a95d-796f85c60c83"
      },
      "outputs": [
        {
          "data": {
            "image/png": "[encoded data removed]",
            "text/plain": [
              "<Figure size 432x288 with 1 Axes>"
            ]
          },
          "metadata": {
            "needs_background": "light"
          },
          "output_type": "display_data"
        }
      ],
      "source": [
        "# plot the scores\n",
        "fig = plt.figure()\n",
        "ax = fig.add_subplot(111)\n",
        "plt.plot(np.arange(len(scores)), scores)\n",
        "plt.ylabel('Score')\n",
        "plt.xlabel('Episode #')\n",
        "plt.show()"
      ]
    },
    {
      "cell_type": "markdown",
      "id": "ebb450a9-c530-4f10-b629-53a2d69860c2",
      "metadata": {
        "id": "ebb450a9-c530-4f10-b629-53a2d69860c2"
      },
      "source": [
        "### Animate it with Video"
      ]
    },
    {
      "cell_type": "code",
      "execution_count": null,
      "id": "c9806a31-f777-468e-8987-0139708ef532",
      "metadata": {
        "id": "c9806a31-f777-468e-8987-0139708ef532"
      },
      "outputs": [],
      "source": []
    },
    {
      "cell_type": "code",
      "execution_count": 174,
      "id": "049323be",
      "metadata": {},
      "outputs": [],
      "source": [
        "def show_video(env_name):\n",
        "    mp4list = glob.glob('video/*.mp4')\n",
        "    if len(mp4list) > 0:\n",
        "        mp4 = 'video/{}.mp4'.format(env_name)\n",
        "        video = io.open(mp4, 'r+b').read()\n",
        "        encoded = base64.b64encode(video)\n",
        "        display.display(HTML(data='''<video alt=\"test\" autoplay \n",
        "                loop controls style=\"height: 400px;\">\n",
        "                <source src=\"data:video/mp4;base64,{0}\" type=\"video/mp4\" />\n",
        "             </video>'''.format(encoded.decode('ascii'))))\n",
        "    else:\n",
        "        print(\"Could not find video\")\n",
        "        \n",
        "def show_video_of_model(agent, env_name):\n",
        "    env = lunar_lander.LunarLander()\n",
        "    vid = video_recorder.VideoRecorder(env, path=\"video/{}.mp4\".format(env_name))\n",
        "    agent.qnetwork_local.load_state_dict(torch.load('checkpoint.pth'))\n",
        "    for _ in range(1):\n",
        "        state = env.reset()\n",
        "        done = False\n",
        "        i =0\n",
        "        while not done:\n",
        "            frame = env.render(mode='rgb_array')\n",
        "            plt.imshow(frame)\n",
        "            vid.capture_frame()\n",
        "            \n",
        "            action = agent.act(state)\n",
        "\n",
        "            state, reward, done, _, _ = env.step(action)        \n",
        "            i = i+1\n",
        "            if i%100 ==0:\n",
        "                print('step', i)\n",
        "    env.close()"
      ]
    },
    {
      "cell_type": "code",
      "execution_count": 175,
      "id": "59e53f73",
      "metadata": {},
      "outputs": [],
      "source": [
        "from gym.utils.step_api_compatibility import step_api_compatibility\n",
        "\n",
        "\n",
        "def demo_heuristic_lander(env, seed=None, render=False):\n",
        "\n",
        "    total_reward = 0\n",
        "    steps = 0\n",
        "    s = env.reset(seed=seed)\n",
        "    while True:\n",
        "        # a = heuristic(env, s)\n",
        "        a = agent.act(s)\n",
        "        s, r, terminated, truncated, info = step_api_compatibility(env.step(a), True)\n",
        "        total_reward += r\n",
        "\n",
        "        if render:\n",
        "            still_open = env.render()\n",
        "            if still_open is False:\n",
        "                break\n",
        "\n",
        "        if steps % 20 == 0 or terminated or truncated:\n",
        "            print(\"observations:\", \" \".join([f\"{x:+0.2f}\" for x in s]))\n",
        "            print(f\"step {steps} total_reward {total_reward:+0.2f}\")\n",
        "        steps += 1\n",
        "        if terminated or truncated:\n",
        "            break\n",
        "    if render:\n",
        "        env.close()\n",
        "    return total_reward"
      ]
    },
    {
      "cell_type": "code",
      "execution_count": 176,
      "id": "748b22b3",
      "metadata": {},
      "outputs": [
        {
          "name": "stdout",
          "output_type": "stream",
          "text": [
            "observations: -0.00 +1.42 -0.17 +0.16 +0.00 +0.04 +0.00 +0.00\n",
            "step 0 total_reward +1.32\n",
            "observations: -0.04 +1.36 -0.17 -0.38 +0.04 +0.04 +0.00 +0.00\n",
            "step 20 total_reward -15.26\n",
            "observations: -0.07 +1.22 -0.18 -0.18 +0.06 +0.02 +0.00 +0.00\n",
            "step 40 total_reward +7.00\n",
            "observations: -0.12 +1.16 -0.30 -0.09 +0.06 -0.03 +0.00 +0.00\n",
            "step 60 total_reward +3.95\n",
            "observations: -0.18 +1.11 -0.32 -0.10 +0.04 -0.01 +0.00 +0.00\n",
            "step 80 total_reward +3.95\n",
            "observations: -0.25 +1.05 -0.35 -0.09 +0.02 -0.01 +0.00 +0.00\n",
            "step 100 total_reward +4.15\n",
            "observations: -0.32 +1.01 -0.33 -0.08 -0.03 -0.09 +0.00 +0.00\n",
            "step 120 total_reward +4.59\n",
            "observations: -0.37 +0.97 -0.21 -0.04 -0.07 -0.04 +0.00 +0.00\n",
            "step 140 total_reward +11.03\n",
            "observations: -0.42 +0.95 -0.23 -0.06 -0.08 -0.02 +0.00 +0.00\n",
            "step 160 total_reward +4.03\n",
            "observations: -0.46 +0.93 -0.13 -0.04 -0.07 +0.07 +0.00 +0.00\n",
            "step 180 total_reward +11.52\n",
            "observations: -0.48 +0.92 -0.12 -0.01 -0.06 +0.01 +0.00 +0.00\n",
            "step 200 total_reward +9.57\n",
            "observations: -0.50 +0.93 -0.07 +0.01 -0.07 -0.02 +0.00 +0.00\n",
            "step 220 total_reward +9.44\n",
            "observations: -0.51 +0.93 -0.07 -0.01 -0.07 +0.01 +0.00 +0.00\n",
            "step 240 total_reward +4.79\n",
            "observations: -0.52 +0.94 -0.01 +0.03 -0.08 +0.00 +0.00 +0.00\n",
            "step 260 total_reward +1.92\n",
            "observations: -0.52 +0.95 +0.06 +0.01 -0.10 +0.01 +0.00 +0.00\n",
            "step 280 total_reward -6.46\n",
            "observations: -0.50 +0.95 +0.13 +0.01 -0.11 -0.01 +0.00 +0.00\n",
            "step 300 total_reward -19.38\n",
            "observations: -0.47 +0.96 +0.19 +0.00 -0.11 +0.01 +0.00 +0.00\n",
            "step 320 total_reward -27.31\n",
            "observations: -0.42 +0.96 +0.23 -0.03 -0.11 +0.04 +0.00 +0.00\n",
            "step 340 total_reward -33.91\n",
            "observations: -0.38 +0.93 +0.21 -0.12 -0.09 +0.03 +0.00 +0.00\n",
            "step 360 total_reward -31.26\n",
            "observations: -0.32 +0.88 +0.34 -0.10 -0.07 -0.01 +0.00 +0.00\n",
            "step 380 total_reward -37.59\n",
            "observations: -0.24 +0.85 +0.42 -0.04 -0.04 +0.00 +0.00 +0.00\n",
            "step 400 total_reward -39.86\n",
            "observations: -0.15 +0.80 +0.48 -0.14 -0.01 +0.04 +0.00 +0.00\n",
            "step 420 total_reward -41.36\n",
            "observations: -0.06 +0.74 +0.45 -0.19 +0.02 +0.02 +0.00 +0.00\n",
            "step 440 total_reward -36.33\n",
            "observations: +0.03 +0.53 +0.45 -0.72 +0.07 +0.03 +0.00 +0.00\n",
            "step 460 total_reward -66.03\n",
            "observations: +0.11 +0.27 +0.29 -0.36 +0.14 +0.07 +0.00 +0.00\n",
            "step 480 total_reward -60.92\n",
            "observations: +0.15 +0.19 +0.11 -0.06 +0.18 +0.05 +0.00 +0.00\n",
            "step 500 total_reward -32.03\n",
            "observations: +0.16 +0.15 +0.04 -0.13 +0.12 -0.11 +0.00 +0.00\n",
            "step 520 total_reward -28.29\n",
            "observations: +0.16 +0.09 -0.07 -0.10 +0.04 -0.04 +0.00 +0.00\n",
            "step 540 total_reward -18.88\n",
            "observations: +0.14 +0.05 -0.12 -0.10 +0.04 +0.03 +0.00 +0.00\n",
            "step 560 total_reward -22.04\n",
            "observations: +0.11 -0.00 -0.16 -0.08 -0.01 -0.28 +1.00 +1.00\n",
            "step 580 total_reward -1.74\n",
            "observations: +0.11 -0.00 -0.00 +0.00 +0.00 +0.00 +0.00 +1.00\n",
            "step 600 total_reward +6.95\n",
            "observations: +0.11 -0.00 +0.00 +0.00 +0.00 +0.00 +0.00 +1.00\n",
            "step 613 total_reward +106.95\n"
          ]
        },
        {
          "data": {
            "text/plain": [
              "106.94739089771902"
            ]
          },
          "execution_count": 176,
          "metadata": {},
          "output_type": "execute_result"
        }
      ],
      "source": [
        "demo_heuristic_lander(lunar_lander.LunarLander(), render=True)"
      ]
    },
    {
      "cell_type": "code",
      "execution_count": 177,
      "id": "4beb1d45-ab9a-4fd7-a769-017bbf1672e1",
      "metadata": {
        "id": "4beb1d45-ab9a-4fd7-a769-017bbf1672e1"
      },
      "outputs": [],
      "source": [
        "# agent = Agent(state_size=8, action_size=4, seed=0)\n",
        "# show_video_of_model(agent, 'LunarLander-v2')"
      ]
    },
    {
      "cell_type": "code",
      "execution_count": 178,
      "id": "f54ee0a0-265b-4161-bbb6-25e28543aa2e",
      "metadata": {
        "id": "f54ee0a0-265b-4161-bbb6-25e28543aa2e"
      },
      "outputs": [],
      "source": [
        "# show_video('LunarLander-v2')"
      ]
    },
    {
      "cell_type": "code",
      "execution_count": null,
      "id": "06fd3c7c",
      "metadata": {},
      "outputs": [],
      "source": []
    }
  ],
  "metadata": {
    "colab": {
      "name": "2021-05-07-DQN-LunarLander.ipynb",
      "provenance": []
    },
    "kernelspec": {
      "display_name": "Python 3.9.5 ('venv': venv)",
      "language": "python",
      "name": "python3"
    },
    "language_info": {
      "codemirror_mode": {
        "name": "ipython",
        "version": 3
      },
      "file_extension": ".py",
      "mimetype": "text/x-python",
      "name": "python",
      "nbconvert_exporter": "python",
      "pygments_lexer": "ipython3",
      "version": "3.9.5"
    },
    "vscode": {
      "interpreter": {
        "hash": "753877470853750a61c6feb6c4f568ced80a6a2118b2d2e51025618879d185a4"
      }
    }
  },
  "nbformat": 4,
  "nbformat_minor": 5
}
